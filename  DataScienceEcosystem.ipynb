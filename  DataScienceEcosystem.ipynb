{
 "cells": [
  {
   "cell_type": "markdown",
   "id": "daf56e8d-02d5-44f3-bb1b-b87c0559313a",
   "metadata": {
    "tags": []
   },
   "source": [
    "# Data Science Tools and Ecosystem"
   ]
  },
  {
   "cell_type": "markdown",
   "id": "048bb45e-f3a1-4896-b6cc-6c2fec06580a",
   "metadata": {
    "tags": []
   },
   "source": [
    "### In this notebook, Data Science Tools and Ecosystem are summarized"
   ]
  },
  {
   "cell_type": "markdown",
   "id": "1ff96acd-d437-4080-98c4-1611893714ab",
   "metadata": {},
   "source": [
    "Some of the popular languages that Data Scientists use are:"
   ]
  },
  {
   "cell_type": "markdown",
   "id": "efe77685-95ab-4a63-9364-55230dfb9bba",
   "metadata": {
    "tags": []
   },
   "source": [
    "1. phython\n",
    "2. R\n",
    "3. Julia\n",
    "4. SQL\n",
    "5. Scala\n",
    "6. Java\n",
    "7. MATLAB\n",
    "\n"
   ]
  },
  {
   "cell_type": "markdown",
   "id": "0d2ca758-25f0-4b82-824f-c37f25d9ed4e",
   "metadata": {},
   "source": [
    "Some of the commonly used libraries used by Data Scientists include:"
   ]
  },
  {
   "cell_type": "markdown",
   "id": "66714f52-304a-4527-a626-4e7ddb5fb5b2",
   "metadata": {},
   "source": [
    "1. Numpy\n",
    "2. Pandas\n",
    "3. Matplotlib\n",
    "4. seaborn\n",
    "5. TensorFlow\n",
    "6. pyTorch\n",
    "7. scipy\n",
    "8. plotly"
   ]
  },
  {
   "cell_type": "markdown",
   "id": "3ef37fc5-2f53-4f04-a257-29e8d99f9195",
   "metadata": {
    "tags": []
   },
   "source": [
    "|Data Science Tools|\n",
    "---------------------\n",
    "|Jupitar Notebook|\n",
    "|Rstudio|\n",
    "|Spyder|\n",
    "|Anaconda|\n",
    "|google colab|\n",
    "|power BI|\n",
    "|Hadoop|\n",
    "|D3.js|\n",
    "|plotly|\n",
    "|git|\n",
    "|github/gitlab|\n",
    "|IBM watson studio|"
   ]
  },
  {
   "cell_type": "markdown",
   "id": "bd5f4bc5-acce-4e2f-b2ca-8bcf1b5c8914",
   "metadata": {},
   "source": [
    "### Below are a few examples of evaluating arithmetic expressions in Python"
   ]
  },
  {
   "cell_type": "code",
   "execution_count": 3,
   "id": "b7e6577a-f8f0-4727-a47d-ccac04ba448c",
   "metadata": {
    "tags": []
   },
   "outputs": [
    {
     "name": "stdout",
     "output_type": "stream",
     "text": [
      "8\n"
     ]
    }
   ],
   "source": [
    "result = 5 + 3\n",
    "print(result) \n"
   ]
  },
  {
   "cell_type": "code",
   "execution_count": 4,
   "id": "39b1f174-6238-49af-aba7-c216070fd0ae",
   "metadata": {
    "tags": []
   },
   "outputs": [
    {
     "name": "stdout",
     "output_type": "stream",
     "text": [
      "6\n"
     ]
    }
   ],
   "source": [
    "result = 10 - 4\n",
    "print(result)  \n"
   ]
  },
  {
   "cell_type": "code",
   "execution_count": 6,
   "id": "7edbd219-64c8-403e-99f7-8c3aee3934eb",
   "metadata": {
    "tags": []
   },
   "outputs": [
    {
     "name": "stdout",
     "output_type": "stream",
     "text": [
      "5.0\n"
     ]
    }
   ],
   "source": [
    "result = 15 / 3\n",
    "print(result)  "
   ]
  },
  {
   "cell_type": "code",
   "execution_count": 7,
   "id": "3107c304-0166-4163-b010-264aa8eb9da9",
   "metadata": {
    "tags": []
   },
   "outputs": [
    {
     "name": "stdout",
     "output_type": "stream",
     "text": [
      "11\n"
     ]
    }
   ],
   "source": [
    "result = 5 + 3 * 2\n",
    "print(result) \n"
   ]
  },
  {
   "cell_type": "code",
   "execution_count": 13,
   "id": "d4641c71-e49f-4d40-8005-5fc9ab66a034",
   "metadata": {
    "tags": []
   },
   "outputs": [
    {
     "data": {
      "text/plain": [
       "17"
      ]
     },
     "execution_count": 13,
     "metadata": {},
     "output_type": "execute_result"
    }
   ],
   "source": [
    "(3*4)+5\n",
    "#it is a simple arithmetic expression to mutiply then add integers "
   ]
  },
  {
   "cell_type": "code",
   "execution_count": 17,
   "id": "f807ada9-50eb-4e85-837f-ffd6fb0b20e7",
   "metadata": {
    "tags": []
   },
   "outputs": [
    {
     "name": "stdout",
     "output_type": "stream",
     "text": [
      "200 minutes is equal to 3.33 hours\n"
     ]
    }
   ],
   "source": [
    "#This will convert 200 minutes to hours by diving by 60\n",
    "minutes = 200\n",
    "hours = minutes / 60\n",
    "\n",
    "print(f\"{minutes} minutes is equal to {hours:.2f} hours\")"
   ]
  },
  {
   "cell_type": "markdown",
   "id": "ed0fe351-4dc6-4cd2-b9de-2a7b390cb2c5",
   "metadata": {},
   "source": [
    "# exercise 3"
   ]
  },
  {
   "cell_type": "markdown",
   "id": "2635d670-5f58-4a74-8c02-03ba1acd7c56",
   "metadata": {
    "tags": []
   },
   "source": [
    " **objectives**"
   ]
  },
  {
   "cell_type": "markdown",
   "id": "09a3da68-902b-4f03-8359-510f212e1536",
   "metadata": {},
   "source": [
    "* Python\n",
    "* R\n",
    "* Julia\n",
    "* Scala\n",
    "* SQL"
   ]
  },
  {
   "cell_type": "markdown",
   "id": "55e22e63-1dfe-4ef5-8da4-505cecef5037",
   "metadata": {},
   "source": [
    "## author\n",
    "Matiullah"
   ]
  },
  {
   "cell_type": "code",
   "execution_count": null,
   "id": "4c14fdff-f9a9-4216-95f9-ff10c17d9b2e",
   "metadata": {},
   "outputs": [],
   "source": []
  }
 ],
 "metadata": {
  "kernelspec": {
   "display_name": "Python 3 (ipykernel)",
   "language": "python",
   "name": "python3"
  },
  "language_info": {
   "codemirror_mode": {
    "name": "ipython",
    "version": 3
   },
   "file_extension": ".py",
   "mimetype": "text/x-python",
   "name": "python",
   "nbconvert_exporter": "python",
   "pygments_lexer": "ipython3",
   "version": "3.11.3"
  }
 },
 "nbformat": 4,
 "nbformat_minor": 5
}
